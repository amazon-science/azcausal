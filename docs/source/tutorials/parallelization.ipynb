{
 "cells": [
  {
   "cell_type": "markdown",
   "id": "88447df3",
   "metadata": {
    "tags": []
   },
   "source": [
    "# Parallelization"
   ]
  }
 ],
 "metadata": {
  "kernelspec": {
   "display_name": "Python 3",
   "language": "python",
   "name": "python3"
  },
  "language_info": {
   "codemirror_mode": {
    "name": "ipython",
    "version": 3
   },
   "file_extension": ".py",
   "mimetype": "text/x-python",
   "name": "python",
   "nbconvert_exporter": "python",
   "pygments_lexer": "ipython3"
  },
  "papermill": {
   "default_parameters": {},
   "duration": 1.438437,
   "end_time": "2023-08-01T23:38:22.935294",
   "environment_variables": {},
   "exception": null,
   "input_path": "source/tutorials/parallelization.ipynb",
   "output_path": "source/tutorials/parallelization.ipynb",
   "parameters": {},
   "start_time": "2023-08-01T23:38:21.496857",
   "version": "2.4.0"
  }
 },
 "nbformat": 4,
 "nbformat_minor": 5
}
