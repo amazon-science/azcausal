{
 "cells": [
  {
   "cell_type": "markdown",
   "id": "88447df3",
   "metadata": {
    "tags": []
   },
   "source": [
    "## Parallelization"
   ]
  },
  {
   "cell_type": "markdown",
   "id": "a7a188da-531d-447c-9748-7614163587cb",
   "metadata": {},
   "source": [
    "For the `Parallelization` in this framework, we need two define to things:\n",
    "\n",
    "- A Function receiving exactly one parameters and return an output\n",
    "- A Generator that yields inputs"
   ]
  },
  {
   "cell_type": "code",
   "execution_count": null,
   "id": "674e4d65-5d21-43af-884f-648f71b18ff7",
   "metadata": {},
   "outputs": [],
   "source": [
    "# FUNCTION\n",
    "def f(x):\n",
    "    return sum([x + k for k in range(1000)])\n",
    "\n",
    "#GENERATOR\n",
    "def g():\n",
    "    for i in range(10):\n",
    "        yield i"
   ]
  },
  {
   "cell_type": "markdown",
   "id": "e5215920-2fd8-422a-941b-5f069b1816b1",
   "metadata": {},
   "source": [
    "Then, we can use the parallelization implementation to run the function for each paramter returned in the generator."
   ]
  },
  {
   "cell_type": "markdown",
   "id": "04be00d5-d79a-4e64-8c4f-0ba4c39e0f66",
   "metadata": {
    "tags": []
   },
   "source": [
    "### Serial"
   ]
  },
  {
   "cell_type": "markdown",
   "id": "0aeee63c-89d4-4082-8512-e35bfbf9cee7",
   "metadata": {},
   "source": [
    "This does not parallelize but just runs a `for` loop. This is often used as a dummy by default."
   ]
  },
  {
   "cell_type": "code",
   "execution_count": null,
   "id": "dc87d7a8-01fa-49e5-82b2-1db90953989e",
   "metadata": {},
   "outputs": [],
   "source": [
    "from azcausal.core.parallelize import Serial\n",
    "\n",
    "parallelize = Serial()\n",
    "\n",
    "parallelize(f, g())"
   ]
  },
  {
   "cell_type": "markdown",
   "id": "cf38731f-2bbe-4cb5-b9d4-0e7eeb87a5fd",
   "metadata": {
    "tags": []
   },
   "source": [
    "### Pool"
   ]
  },
  {
   "cell_type": "markdown",
   "id": "a02334b2-33b7-4c42-95e8-ff96b60f7c2a",
   "metadata": {},
   "source": [
    "The `Pool` uses the Python implementation of threads or processes to run tasks in parallel."
   ]
  },
  {
   "cell_type": "code",
   "execution_count": null,
   "id": "ad092ea7-46b5-4bde-a5ba-1d4e8c21e152",
   "metadata": {},
   "outputs": [],
   "source": [
    "from azcausal.core.parallelize import Pool\n",
    "\n",
    "# please just for mode `thread` or `process`\n",
    "mode = 'thread'\n",
    " \n",
    "# the number of workers (by default #cores-1)\n",
    "max_workers = None\n",
    "\n",
    "parallelize = Pool(mode=mode, max_workers=max_workers)\n",
    "\n",
    "parallelize(f, g())"
   ]
  },
  {
   "cell_type": "markdown",
   "id": "51bad57d-9de5-4e00-a880-d5b04f216285",
   "metadata": {
    "tags": []
   },
   "source": [
    "### Joblib"
   ]
  },
  {
   "cell_type": "markdown",
   "id": "510240c4-4c95-4522-a883-9fbcd0f21bd7",
   "metadata": {},
   "source": [
    "Uses the well-known `Joblib` implementation for parallelization."
   ]
  },
  {
   "cell_type": "code",
   "execution_count": null,
   "id": "579317af-ea27-4f7c-9e31-9bf3dfa759ca",
   "metadata": {},
   "outputs": [],
   "source": [
    "from azcausal.core.parallelize import Joblib\n",
    "\n",
    "n_jobs = None\n",
    "\n",
    "parallelize = Joblib(n_jobs=n_jobs)\n",
    "\n",
    "parallelize(f, g())"
   ]
  }
 ],
 "metadata": {
  "kernelspec": {
   "display_name": "Python 3 (ipykernel)",
   "language": "python",
   "name": "python3"
  },
  "language_info": {
   "codemirror_mode": {
    "name": "ipython",
    "version": 3
   },
   "file_extension": ".py",
   "mimetype": "text/x-python",
   "name": "python",
   "nbconvert_exporter": "python",
   "pygments_lexer": "ipython3"
  },
  "papermill": {
   "default_parameters": {},
   "duration": 1.438437,
   "end_time": "2023-08-01T23:38:22.935294",
   "environment_variables": {},
   "exception": null,
   "input_path": "source/tutorials/parallelization.ipynb",
   "output_path": "source/tutorials/parallelization.ipynb",
   "parameters": {},
   "start_time": "2023-08-01T23:38:21.496857",
   "version": "2.4.0"
  }
 },
 "nbformat": 4,
 "nbformat_minor": 5
}
