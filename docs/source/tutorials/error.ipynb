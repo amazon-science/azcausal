{
 "cells": [
  {
   "cell_type": "markdown",
   "id": "401d28a6",
   "metadata": {
    "tags": []
   },
   "source": [
    "## Error"
   ]
  },
  {
   "cell_type": "markdown",
   "id": "ecd6c81b-e305-4cd9-acfa-61d9b12ee252",
   "metadata": {},
   "source": [
    "Out of the books different ways of measearing the estimation error of an estimator are supported."
   ]
  },
  {
   "cell_type": "code",
   "execution_count": null,
   "id": "7d1fa6c3-ed94-4b8c-9309-64628e60be42",
   "metadata": {},
   "outputs": [],
   "source": [
    "\n",
    "from azcausal.core.parallelize import Joblib\n",
    "from azcausal.data import CaliforniaProp99\n",
    "from azcausal.estimators.panel.did import DID\n",
    "\n",
    "panel = CaliforniaProp99().panel()\n",
    "\n",
    "# initialize an estimator object, here difference in difference (did)\n",
    "estimator = DID()\n",
    "\n",
    "# run the estimator\n",
    "result = estimator.fit(panel)\n",
    "\n",
    "print(result.summary(percentage=False))"
   ]
  },
  {
   "cell_type": "markdown",
   "id": "a0575219",
   "metadata": {
    "tags": []
   },
   "source": [
    "### Bootstrap"
   ]
  },
  {
   "cell_type": "code",
   "execution_count": null,
   "id": "a178f90e-782d-44c4-a2ad-ae1934d57bb3",
   "metadata": {},
   "outputs": [],
   "source": [
    "from azcausal.core.error import Bootstrap\n",
    "\n",
    "method = Bootstrap(n_samples=101)\n",
    "vals = method.run(result)\n",
    "\n",
    "# print out information about the estimate\n",
    "print(result.summary(percentage=False))"
   ]
  },
  {
   "cell_type": "markdown",
   "id": "3c78d751",
   "metadata": {
    "tags": []
   },
   "source": [
    "### Placebo"
   ]
  },
  {
   "cell_type": "code",
   "execution_count": null,
   "id": "178819ae-c528-4d81-8d4c-0eaef7538f76",
   "metadata": {},
   "outputs": [],
   "source": [
    "from azcausal.core.error import Placebo\n",
    "\n",
    "method = Placebo(n_samples=101)\n",
    "vals = method.run(result)\n",
    "\n",
    "# print out information about the estimate\n",
    "print(result.summary(percentage=False))"
   ]
  },
  {
   "cell_type": "markdown",
   "id": "5952186b",
   "metadata": {
    "tags": []
   },
   "source": [
    "### JackKnife"
   ]
  },
  {
   "cell_type": "code",
   "execution_count": null,
   "id": "d69bb968-8991-49e3-ad49-112933eddee6",
   "metadata": {},
   "outputs": [],
   "source": [
    "from azcausal.core.error import JackKnife\n",
    "\n",
    "method = JackKnife()\n",
    "vals = method.run(result)\n",
    "\n",
    "# print out information about the estimate\n",
    "print(result.summary(percentage=False))"
   ]
  }
 ],
 "metadata": {
  "kernelspec": {
   "display_name": "Python 3 (ipykernel)",
   "language": "python",
   "name": "python3"
  },
  "language_info": {
   "codemirror_mode": {
    "name": "ipython",
    "version": 3
   },
   "file_extension": ".py",
   "mimetype": "text/x-python",
   "name": "python",
   "nbconvert_exporter": "python",
   "pygments_lexer": "ipython3"
  },
  "papermill": {
   "default_parameters": {},
   "duration": 1.282826,
   "end_time": "2023-08-01T23:38:26.687146",
   "environment_variables": {},
   "exception": null,
   "input_path": "source/tutorials/error.ipynb",
   "output_path": "source/tutorials/error.ipynb",
   "parameters": {},
   "start_time": "2023-08-01T23:38:25.404320",
   "version": "2.4.0"
  }
 },
 "nbformat": 4,
 "nbformat_minor": 5
}
