{
 "cells": [
  {
   "cell_type": "markdown",
   "id": "401d28a6",
   "metadata": {
    "tags": []
   },
   "source": [
    "# Estimation Error"
   ]
  },
  {
   "cell_type": "markdown",
   "id": "3c78d751",
   "metadata": {
    "tags": []
   },
   "source": [
    "## Bootstrap"
   ]
  },
  {
   "cell_type": "markdown",
   "id": "5952186b",
   "metadata": {
    "tags": []
   },
   "source": [
    "## JackKnife"
   ]
  },
  {
   "cell_type": "markdown",
   "id": "a0575219",
   "metadata": {
    "tags": []
   },
   "source": [
    "## Bootstrap"
   ]
  }
 ],
 "metadata": {
  "kernelspec": {
   "display_name": "Python 3",
   "language": "python",
   "name": "python3"
  },
  "language_info": {
   "codemirror_mode": {
    "name": "ipython",
    "version": 3
   },
   "file_extension": ".py",
   "mimetype": "text/x-python",
   "name": "python",
   "nbconvert_exporter": "python",
   "pygments_lexer": "ipython3"
  },
  "papermill": {
   "default_parameters": {},
   "duration": 1.282826,
   "end_time": "2023-08-01T23:38:26.687146",
   "environment_variables": {},
   "exception": null,
   "input_path": "source/tutorials/error.ipynb",
   "output_path": "source/tutorials/error.ipynb",
   "parameters": {},
   "start_time": "2023-08-01T23:38:25.404320",
   "version": "2.4.0"
  }
 },
 "nbformat": 4,
 "nbformat_minor": 5
}
