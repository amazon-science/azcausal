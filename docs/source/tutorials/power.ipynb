{
 "cells": [
  {
   "cell_type": "markdown",
   "id": "d3a68b96",
   "metadata": {
    "tags": []
   },
   "source": [
    "## Power Analysis"
   ]
  },
  {
   "cell_type": "code",
   "execution_count": null,
   "id": "69113821-0458-456b-b962-dff576dfb849",
   "metadata": {},
   "outputs": [],
   "source": [
    "import numpy as np\n",
    "import pandas as pd\n",
    "\n",
    "from azcausal.core.parallelize import Joblib\n",
    "from azcausal.core.scenario import Scenario, Evaluator, power\n",
    "from azcausal.core.synth import SyntheticEffect\n",
    "from azcausal.data import CaliforniaProp99\n",
    "from azcausal.estimators.panel.did import DIDRegressor\n",
    "\n",
    "\n",
    "# define a function that provides a result object (with error) given a panel\n",
    "def f_estimate_did_regr(panel):\n",
    "    return DIDRegressor().fit(panel)\n",
    "\n",
    "\n",
    "# get an exapmle data frame (all units should NOT be treated)\n",
    "panel = CaliforniaProp99().panel()\n",
    "outcome = panel.outcome.loc[:, ~panel.w]\n",
    "\n",
    "# the number of samples for the power (please increase for higher accuracy)\n",
    "n_samples = 11\n",
    "\n",
    "# create the intervention matrix\n",
    "intervention = np.zeros_like(outcome.values).astype(int)\n",
    "intervention[-10:, :2] = 1\n",
    "\n",
    "df = []\n",
    "\n",
    "for att in np.linspace(0.0, 0.30, 7):\n",
    "\n",
    "    # create the treatment matrix for the effect\n",
    "    treatment = intervention * att * -1\n",
    "\n",
    "    # define the synthetic effect\n",
    "    synth_effect = SyntheticEffect(outcome, treatment, intervention=intervention, mode='perc')\n",
    "\n",
    "    # create the scenarios and run them\n",
    "    scenario = Scenario(f_estimate_did_regr, synth_effect, f_eval=Evaluator(conf=90))\n",
    "    results = scenario.run(n_samples, parallelize=Joblib())\n",
    "\n",
    "    # calculate the power from the results\n",
    "    pw = power(results)\n",
    "\n",
    "    print(f\"Percentage Treatment Effect {att:.3f} | (-): {pw['-']:.3%}\")\n",
    "\n",
    "    df.append(dict(att=att, **pw))\n",
    "\n",
    "df = pd.DataFrame(df)\n",
    "df"
   ]
  },
  {
   "cell_type": "code",
   "execution_count": null,
   "id": "5a978fee-b5a5-4911-9cf6-18fa9948b9a5",
   "metadata": {},
   "outputs": [],
   "source": [
    "import matplotlib.pyplot as plt\n",
    "\n",
    "plt.subplots(1, 1, figsize=(12, 4))\n",
    "plt.title(\"Power Analysis\")\n",
    "plt.plot(100 * df['att'], df['-'], \"-o\", color=\"blue\", label='-')\n",
    "plt.plot(100 * df['att'], df['+'], \"-o\", color=\"green\", label='+')\n",
    "plt.axhline(1.0, color=\"black\", alpha=0.15)\n",
    "plt.axhline(0.9, color=\"black\", alpha=0.15, linestyle='--')\n",
    "plt.axhline(0.0, color=\"black\", alpha=0.15)\n",
    "plt.ylim(-0.05, 1.05)\n",
    "plt.xlabel(\"ATT (%)\")\n",
    "plt.ylabel(\"Statistical Power\")\n",
    "plt.legend()\n",
    "plt.show()"
   ]
  }
 ],
 "metadata": {
  "kernelspec": {
   "display_name": "Python 3 (ipykernel)",
   "language": "python",
   "name": "python3"
  },
  "language_info": {
   "codemirror_mode": {
    "name": "ipython",
    "version": 3
   },
   "file_extension": ".py",
   "mimetype": "text/x-python",
   "name": "python",
   "nbconvert_exporter": "python",
   "pygments_lexer": "ipython3"
  },
  "papermill": {
   "default_parameters": {},
   "duration": 1.220668,
   "end_time": "2023-08-01T23:38:24.158266",
   "environment_variables": {},
   "exception": null,
   "input_path": "source/tutorials/power.ipynb",
   "output_path": "source/tutorials/power.ipynb",
   "parameters": {},
   "start_time": "2023-08-01T23:38:22.937598",
   "version": "2.4.0"
  }
 },
 "nbformat": 4,
 "nbformat_minor": 5
}
