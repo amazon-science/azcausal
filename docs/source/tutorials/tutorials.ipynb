{
 "cells": [
  {
   "cell_type": "markdown",
   "id": "fd10f6df-ce18-418e-98f9-9583b1777248",
   "metadata": {},
   "source": [
    "# Tutorials"
   ]
  },
  {
   "cell_type": "raw",
   "id": "c75068e6-e5c8-458e-9054-46a8cae223c5",
   "metadata": {
    "tags": []
   },
   "source": [
    ".. toctree::\n",
    "   :maxdepth: 1\n",
    "   :hidden:\n",
    "\n",
    "   error\n",
    "   power\n",
    "   parallelization\n"
   ]
  }
 ],
 "metadata": {
  "kernelspec": {
   "display_name": "Python 3 (ipykernel)",
   "language": "python",
   "name": "python3"
  },
  "language_info": {
   "codemirror_mode": {
    "name": "ipython",
    "version": 3
   },
   "file_extension": ".py",
   "mimetype": "text/x-python",
   "name": "python",
   "nbconvert_exporter": "python",
   "pygments_lexer": "ipython3"
  }
 },
 "nbformat": 4,
 "nbformat_minor": 5
}
