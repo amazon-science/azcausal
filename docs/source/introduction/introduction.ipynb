{
 "cells": [
  {
   "cell_type": "markdown",
   "id": "b925da9d-f46b-49bd-8a14-e18c547510b0",
   "metadata": {},
   "source": [
    "# Introduction"
   ]
  },
  {
   "cell_type": "raw",
   "id": "46d51c3d-c0b9-423d-b8d0-a0d81b73a1ae",
   "metadata": {
    "tags": []
   },
   "source": [
    "\n",
    ".. toctree::\n",
    "   :hidden:\n",
    "   :maxdepth: 2\n",
    "\n",
    "   installation\n",
    "   getting_started\n",
    "   license\n"
   ]
  }
 ],
 "metadata": {
  "kernelspec": {
   "display_name": "Python 3 (ipykernel)",
   "language": "python",
   "name": "python3"
  },
  "language_info": {
   "codemirror_mode": {
    "name": "ipython",
    "version": 3
   },
   "file_extension": ".py",
   "mimetype": "text/x-python",
   "name": "python",
   "nbconvert_exporter": "python",
   "pygments_lexer": "ipython3"
  }
 },
 "nbformat": 4,
 "nbformat_minor": 5
}
