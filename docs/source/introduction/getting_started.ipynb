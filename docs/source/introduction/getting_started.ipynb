{
 "cells": [
  {
   "cell_type": "markdown",
   "id": "c5579eee",
   "metadata": {
    "tags": []
   },
   "source": [
    "# Getting Started"
   ]
  }
 ],
 "metadata": {
  "kernelspec": {
   "display_name": "Python 3",
   "language": "python",
   "name": "python3"
  },
  "language_info": {
   "codemirror_mode": {
    "name": "ipython",
    "version": 3
   },
   "file_extension": ".py",
   "mimetype": "text/x-python",
   "name": "python",
   "nbconvert_exporter": "python",
   "pygments_lexer": "ipython3"
  },
  "papermill": {
   "default_parameters": {},
   "duration": 1.066792,
   "end_time": "2023-08-02T00:13:16.066491",
   "environment_variables": {},
   "exception": null,
   "input_path": "/Users/blankjul/workspace/azcausal/docs/source/introduction/getting_started.ipynb",
   "output_path": "/Users/blankjul/workspace/azcausal/docs/source/introduction/getting_started.ipynb",
   "parameters": {},
   "start_time": "2023-08-02T00:13:14.999699",
   "version": "2.4.0"
  }
 },
 "nbformat": 4,
 "nbformat_minor": 5
}
