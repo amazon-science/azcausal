{
 "cells": [
  {
   "cell_type": "markdown",
   "id": "79fc8397",
   "metadata": {
    "tags": []
   },
   "source": [
    "# Installation"
   ]
  },
  {
   "cell_type": "markdown",
   "id": "1a39748f",
   "metadata": {
    "tags": []
   },
   "source": [
    "To install the current release, please execute:"
   ]
  },
  {
   "cell_type": "raw",
   "id": "c151fc44",
   "metadata": {
    "tags": []
   },
   "source": [
    ".. code:: bash\n",
    "\n",
    "    pip install git+https://github.com/amazon-science/azcausal.git"
   ]
  }
 ],
 "metadata": {
  "kernelspec": {
   "display_name": "Python 3 (ipykernel)",
   "language": "python",
   "name": "python3"
  },
  "language_info": {
   "codemirror_mode": {
    "name": "ipython",
    "version": 3
   },
   "file_extension": ".py",
   "mimetype": "text/x-python",
   "name": "python",
   "nbconvert_exporter": "python",
   "pygments_lexer": "ipython3"
  },
  "papermill": {
   "default_parameters": {},
   "duration": 1.385011,
   "end_time": "2023-08-01T23:43:18.114439",
   "environment_variables": {},
   "exception": null,
   "input_path": "/Users/blankjul/workspace/azcausal/docs/source/introduction/installation.ipynb",
   "output_path": "/Users/blankjul/workspace/azcausal/docs/source/introduction/installation.ipynb",
   "parameters": {},
   "start_time": "2023-08-01T23:43:16.729428",
   "version": "2.4.0"
  }
 },
 "nbformat": 4,
 "nbformat_minor": 5
}
