{
 "cells": [
  {
   "cell_type": "markdown",
   "id": "79fc8397",
   "metadata": {
    "tags": []
   },
   "source": [
    "## Installation"
   ]
  },
  {
   "cell_type": "raw",
   "id": "10882993-36ba-454e-9f6e-dcfb77803ab4",
   "metadata": {
    "tags": []
   },
   "source": [
    ".. Hint:: So far, the installation is only available directly through Github (*we are planning to add PyPi in the near future*)."
   ]
  },
  {
   "cell_type": "markdown",
   "id": "4f99ce09-a4f8-433d-94d7-0e6721954380",
   "metadata": {},
   "source": [
    "### Development"
   ]
  },
  {
   "cell_type": "markdown",
   "id": "597bc96a-c800-4fd1-8cd1-8a94920410a9",
   "metadata": {},
   "source": [
    "To install the current development version from the main branch:"
   ]
  },
  {
   "cell_type": "raw",
   "id": "c151fc44",
   "metadata": {
    "tags": []
   },
   "source": [
    ".. code:: bash\n",
    "\n",
    "    pip install git+https://github.com/amazon-science/azcausal.git"
   ]
  },
  {
   "cell_type": "markdown",
   "id": "546f22a0-67eb-4e31-ae02-3ca4cb087bc9",
   "metadata": {},
   "source": [
    "### Release"
   ]
  },
  {
   "cell_type": "markdown",
   "id": "3f48b0e2-c37c-4fa4-b6e6-bd118c67eb75",
   "metadata": {},
   "source": [
    "To install a specific release, the Github tag function can be used. For instance, to install **v0.1** you can use the following command:"
   ]
  },
  {
   "cell_type": "raw",
   "id": "894f7eed-404d-4c4c-b6f7-0834b36779f6",
   "metadata": {
    "tags": []
   },
   "source": [
    ".. code:: bash\n",
    "\n",
    "    pip install git+https://github.com/amazon-science/azcausal.git@v0.1"
   ]
  }
 ],
 "metadata": {
  "kernelspec": {
   "display_name": "Python 3 (ipykernel)",
   "language": "python",
   "name": "python3"
  },
  "language_info": {
   "codemirror_mode": {
    "name": "ipython",
    "version": 3
   },
   "file_extension": ".py",
   "mimetype": "text/x-python",
   "name": "python",
   "nbconvert_exporter": "python",
   "pygments_lexer": "ipython3"
  },
  "papermill": {
   "default_parameters": {},
   "duration": 1.691468,
   "end_time": "2023-08-02T00:13:14.990979",
   "environment_variables": {},
   "exception": null,
   "input_path": "/Users/blankjul/workspace/azcausal/docs/source/introduction/installation.ipynb",
   "output_path": "/Users/blankjul/workspace/azcausal/docs/source/introduction/installation.ipynb",
   "parameters": {},
   "start_time": "2023-08-02T00:13:13.299511",
   "version": "2.4.0"
  }
 },
 "nbformat": 4,
 "nbformat_minor": 5
}
