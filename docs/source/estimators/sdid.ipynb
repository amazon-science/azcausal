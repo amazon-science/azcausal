{
 "cells": [
  {
   "cell_type": "markdown",
   "id": "c3cdccaa",
   "metadata": {
    "tags": []
   },
   "source": [
    "## Synthetic Difference-in-Difference (SDID)"
   ]
  },
  {
   "cell_type": "raw",
   "id": "c0496a08-0f8a-4a96-8d06-bfd26adc264c",
   "metadata": {
    "tags": []
   },
   "source": [
    "Synthetic Difference-in-Difference (SDID): Arkhangelsky, Dmitry Athey, Susan Hirshberg, David A. Imbens, Guido W. Wager, Stefan Synthetic Difference-in-Differences American Economic Review 111 12 4088-4118 2021 10.1257/aer.20190159 https://www.aeaweb.org/articles?id=10.1257/aer.20190159. \n",
    "\n",
    "Implementation based on https://synth-inference.github.io/synthdid/"
   ]
  },
  {
   "cell_type": "code",
   "execution_count": null,
   "id": "17473824-2d0d-4fa0-8009-f294cb384e49",
   "metadata": {},
   "outputs": [],
   "source": [
    "from azcausal.data import CaliforniaProp99\n",
    "from azcausal.core.error import JackKnife\n",
    "from azcausal.estimators.panel.sdid import SDID\n",
    "\n",
    "\n",
    "# load an example data set with the columns Year, State, PacksPerCapita, treated.\n",
    "panel = CaliforniaProp99().panel()\n",
    "\n",
    "# initialize an estimator object, here synthetic difference in difference (sdid)\n",
    "estimator = SDID()\n",
    "\n",
    "# run the estimator\n",
    "result = estimator.fit(panel)\n",
    "\n",
    "# show the results in a plot\n",
    "estimator.plot(result, CF=True, C=True, show=False)\n",
    "\n",
    "# run an error validation method\n",
    "estimator.error(result, JackKnife())\n",
    "\n",
    "# print out information about the estimate\n",
    "print(result.summary(title=\"CaliforniaProp99\"))"
   ]
  }
 ],
 "metadata": {
  "kernelspec": {
   "display_name": "Python 3 (ipykernel)",
   "language": "python",
   "name": "python3"
  },
  "language_info": {
   "codemirror_mode": {
    "name": "ipython",
    "version": 3
   },
   "file_extension": ".py",
   "mimetype": "text/x-python",
   "name": "python",
   "nbconvert_exporter": "python",
   "pygments_lexer": "ipython3"
  },
  "papermill": {
   "default_parameters": {},
   "duration": 0.994744,
   "end_time": "2023-08-01T23:43:02.502825",
   "environment_variables": {},
   "exception": null,
   "input_path": "/Users/blankjul/workspace/azcausal/docs/source/estimators/sdid.ipynb",
   "output_path": "/Users/blankjul/workspace/azcausal/docs/source/estimators/sdid.ipynb",
   "parameters": {},
   "start_time": "2023-08-01T23:43:01.508081",
   "version": "2.4.0"
  }
 },
 "nbformat": 4,
 "nbformat_minor": 5
}
