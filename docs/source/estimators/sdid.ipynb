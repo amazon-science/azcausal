{
 "cells": [
  {
   "cell_type": "markdown",
   "id": "c3cdccaa",
   "metadata": {
    "tags": []
   },
   "source": [
    "## Synthetic Difference-in-Difference (SDID)"
   ]
  }
 ],
 "metadata": {
  "kernelspec": {
   "display_name": "Python 3",
   "language": "python",
   "name": "python3"
  },
  "language_info": {
   "codemirror_mode": {
    "name": "ipython",
    "version": 3
   },
   "file_extension": ".py",
   "mimetype": "text/x-python",
   "name": "python",
   "nbconvert_exporter": "python",
   "pygments_lexer": "ipython3"
  },
  "papermill": {
   "default_parameters": {},
   "duration": 0.994744,
   "end_time": "2023-08-01T23:43:02.502825",
   "environment_variables": {},
   "exception": null,
   "input_path": "/Users/blankjul/workspace/azcausal/docs/source/estimators/sdid.ipynb",
   "output_path": "/Users/blankjul/workspace/azcausal/docs/source/estimators/sdid.ipynb",
   "parameters": {},
   "start_time": "2023-08-01T23:43:01.508081",
   "version": "2.4.0"
  }
 },
 "nbformat": 4,
 "nbformat_minor": 5
}
