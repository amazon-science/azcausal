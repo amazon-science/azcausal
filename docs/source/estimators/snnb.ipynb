{
 "cells": [
  {
   "cell_type": "markdown",
   "id": "65bab9d9",
   "metadata": {
    "tags": []
   },
   "source": [
    "## Synthetic Nearest Neighbor Biclustering (SNNB)"
   ]
  },
  {
   "cell_type": "raw",
   "id": "57df9ba4-a652-43f0-8b77-7af6f12ed54e",
   "metadata": {
    "tags": []
   },
   "source": [
    ".. Attention:: SNNB is still experimental."
   ]
  },
  {
   "cell_type": "code",
   "execution_count": null,
   "id": "783a6eea-8ff2-45d5-985c-c25c6fb28341",
   "metadata": {},
   "outputs": [],
   "source": [
    "from azcausal.core.panel import Panel\n",
    "from azcausal.data import CaliforniaProp99\n",
    "from azcausal.estimators.panel.snnb import SNNB\n",
    "\n",
    "# load an example data set with the columns Year, State, PacksPerCapita, treated.\n",
    "panel = CaliforniaProp99().panel()\n",
    "\n",
    "# initialize an estimator object\n",
    "estimator = SNNB()\n",
    "\n",
    "# run the estimator\n",
    "result = estimator.fit(panel)\n",
    "\n",
    "# plot the results\n",
    "estimator.plot(result, title=\"CaliforniaProp99\", show=False)\n",
    "\n",
    "# print out information about the estimate\n",
    "print(result.summary(title=\"CaliforniaProp99\"))"
   ]
  }
 ],
 "metadata": {
  "kernelspec": {
   "display_name": "Python 3 (ipykernel)",
   "language": "python",
   "name": "python3"
  },
  "language_info": {
   "codemirror_mode": {
    "name": "ipython",
    "version": 3
   },
   "file_extension": ".py",
   "mimetype": "text/x-python",
   "name": "python",
   "nbconvert_exporter": "python",
   "pygments_lexer": "ipython3"
  },
  "papermill": {
   "default_parameters": {},
   "duration": 1.439531,
   "end_time": "2023-08-01T23:38:20.062774",
   "environment_variables": {},
   "exception": null,
   "input_path": "source/estimators/snnb.ipynb",
   "output_path": "source/estimators/snnb.ipynb",
   "parameters": {},
   "start_time": "2023-08-01T23:38:18.623243",
   "version": "2.4.0"
  }
 },
 "nbformat": 4,
 "nbformat_minor": 5
}
