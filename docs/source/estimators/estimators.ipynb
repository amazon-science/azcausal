{
 "cells": [
  {
   "cell_type": "markdown",
   "id": "23d7558f-9be7-4738-9471-1a90b4410e96",
   "metadata": {},
   "source": [
    "# Estimators"
   ]
  },
  {
   "cell_type": "raw",
   "id": "4fcb74eb-f458-4ada-9eae-d63a98bf08da",
   "metadata": {
    "tags": []
   },
   "source": [
    "\n",
    ".. toctree::\n",
    "   :maxdepth: 2\n",
    "   :hidden:\n",
    "\n",
    "   did\n",
    "   sdid\n",
    "   snnb\n",
    "\n",
    "\n",
    "\n"
   ]
  }
 ],
 "metadata": {
  "kernelspec": {
   "display_name": "Python 3 (ipykernel)",
   "language": "python",
   "name": "python3"
  },
  "language_info": {
   "codemirror_mode": {
    "name": "ipython",
    "version": 3
   },
   "file_extension": ".py",
   "mimetype": "text/x-python",
   "name": "python",
   "nbconvert_exporter": "python",
   "pygments_lexer": "ipython3"
  },
  "papermill": {
   "default_parameters": {},
   "duration": 0.994744,
   "end_time": "2023-08-01T23:43:02.502825",
   "environment_variables": {},
   "exception": null,
   "input_path": "/Users/blankjul/workspace/azcausal/docs/source/estimators/sdid.ipynb",
   "output_path": "/Users/blankjul/workspace/azcausal/docs/source/estimators/sdid.ipynb",
   "parameters": {},
   "start_time": "2023-08-01T23:43:01.508081",
   "version": "2.4.0"
  }
 },
 "nbformat": 4,
 "nbformat_minor": 5
}
