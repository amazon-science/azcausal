{
 "cells": [
  {
   "cell_type": "markdown",
   "id": "566e7a88",
   "metadata": {
    "tags": []
   },
   "source": [
    "## Difference-in-Difference (DID)"
   ]
  },
  {
   "cell_type": "markdown",
   "id": "2b173106-05f9-4bf8-96fc-0e217d5f7d16",
   "metadata": {},
   "source": [
    "One of the most well-known estimators is probably Difference-in-Difference (DID). It compares the differences pre- and post-experiment of treatment and control."
   ]
  },
  {
   "cell_type": "code",
   "execution_count": null,
   "id": "64062ef1-f429-45bf-910a-97a7f7e35fb6",
   "metadata": {},
   "outputs": [],
   "source": [
    "from azcausal.data import CaliforniaProp99\n",
    "\n",
    "# load an example data set with the columns Year, State, PacksPerCapita, treated.\n",
    "df = CaliforniaProp99().load()\n",
    "\n",
    "# rename the columns\n",
    "df = df.rename(columns=dict(State='unit', Year='time', PacksPerCapita='outcome', treated='intervention'))\n",
    "\n",
    "df.head(3)"
   ]
  },
  {
   "cell_type": "markdown",
   "id": "0bdaa916-af41-447c-898d-4dcefb87d54b",
   "metadata": {},
   "source": [
    "### Panel"
   ]
  },
  {
   "cell_type": "markdown",
   "id": "18675c13-44d9-46b4-b0e6-94344ba1b167",
   "metadata": {},
   "source": [
    "First, create a `Panel` object given the data."
   ]
  },
  {
   "cell_type": "code",
   "execution_count": null,
   "id": "d9710599-aa3f-4b05-94c2-ce451cc6fa4a",
   "metadata": {},
   "outputs": [],
   "source": [
    "from azcausal.core.panel import Panel\n",
    "from azcausal.util import to_matrix, intervention_from_outcome\n",
    "\n",
    "# convert to matrices where the index represents each Year (time) and each column a state (unit)\n",
    "outcome = to_matrix(df, \"time\", \"unit\", \"outcome\", fillna=0.0)\n",
    "\n",
    "# the time when the intervention started\n",
    "start_time = df.query(\"intervention == 1\")[\"time\"].min()\n",
    "\n",
    "# the units that have been treated\n",
    "treat_units = list(df.query(\"intervention == 1\")[\"unit\"].unique())\n",
    "\n",
    "# create the intervention matrix\n",
    "intervention = intervention_from_outcome(outcome, start_time, treat_units)\n",
    "\n",
    "# create a panel combining outcome and treatment\n",
    "panel = Panel(outcome, intervention)"
   ]
  },
  {
   "cell_type": "markdown",
   "id": "d37f2bb4-5b5d-4c35-a306-2d9efba81593",
   "metadata": {},
   "source": [
    "Then, run the DID analysis (very efficient on pre-formatted panel data)."
   ]
  },
  {
   "cell_type": "code",
   "execution_count": null,
   "id": "9491b76f-35b5-4fc5-ab20-fd967e496151",
   "metadata": {},
   "outputs": [],
   "source": [
    "from azcausal.core.error import Bootstrap\n",
    "from azcausal.core.parallelize import Pool, Joblib\n",
    "from azcausal.estimators.panel.did import DID\n",
    "\n",
    "# initialize an estimator object, here difference in difference (did)\n",
    "estimator = DID()\n",
    "\n",
    "# run the estimator\n",
    "result = estimator.fit(panel)\n",
    "\n",
    "# plot the results\n",
    "estimator.plot(result, title=\"CaliforniaProp99\", show=False)\n",
    "\n",
    "# create a process pool for parallelization\n",
    "pool = Joblib(n_jobs=5, progress=False)\n",
    "\n",
    "# run the error validation method\n",
    "estimator.error(result, Bootstrap(n_samples=101), parallelize=pool)\n",
    "\n",
    "# print out information about the estimate\n",
    "print(result.summary(title=\"CaliforniaProp99\"))"
   ]
  },
  {
   "cell_type": "markdown",
   "id": "6733825f-72a7-438e-9683-f3555fc8595b",
   "metadata": {},
   "source": [
    "### Regression"
   ]
  },
  {
   "cell_type": "code",
   "execution_count": null,
   "id": "d0524641-478b-4ce3-acc6-4d342cc6f51d",
   "metadata": {},
   "outputs": [],
   "source": [
    "from azcausal.estimators.panel.did import DIDRegressor\n",
    "\n",
    "# initialize an estimator object, here difference in difference (did)\n",
    "estimator = DIDRegressor()\n",
    "\n",
    "# fit the estimator\n",
    "result = estimator.fit(df)\n",
    "\n",
    "# print out information about the estimate\n",
    "print(result.summary(title=\"CaliforniaProp99\", conf=95))"
   ]
  },
  {
   "cell_type": "markdown",
   "id": "d4f8bee6-7fe0-4897-bf5f-0993cbde1722",
   "metadata": {},
   "source": [
    "### Event Study"
   ]
  },
  {
   "cell_type": "markdown",
   "id": "dce7a0c9-1544-4103-8bd7-6b20e1f514d7",
   "metadata": {},
   "source": [
    "Exclude the time period -1 and set all DiD in relation to it"
   ]
  },
  {
   "cell_type": "code",
   "execution_count": null,
   "id": "8cbc74b9-2a84-420d-adcd-cee02eadee19",
   "metadata": {},
   "outputs": [],
   "source": [
    "from azcausal.estimators.panel.did import EventStudy\n",
    "\n",
    "# now perform the event study\n",
    "estimator = EventStudy(n_pre=None, exclude=-1)\n",
    "\n",
    "# you can fit this with a data frame or panel\n",
    "result = estimator.fit(df)\n",
    "\n",
    "# show the results in a plot\n",
    "estimator.plot(result)"
   ]
  },
  {
   "cell_type": "markdown",
   "id": "f716a7dc-8b88-40f1-b01e-e115d939db15",
   "metadata": {},
   "source": [
    "Assume that we run DID also before the experiment."
   ]
  },
  {
   "cell_type": "code",
   "execution_count": null,
   "id": "0b30c0b7-247d-40cd-bb6c-4fb16fa539f9",
   "metadata": {},
   "outputs": [],
   "source": [
    "from azcausal.estimators.panel.did import EventStudy\n",
    "\n",
    "# now perform the event study\n",
    "estimator = EventStudy(n_pre=8, exclude=None)\n",
    "\n",
    "# you can fit this with a data frame or panel\n",
    "result = estimator.fit(df)\n",
    "\n",
    "# show the results in a plot\n",
    "estimator.plot(result)"
   ]
  }
 ],
 "metadata": {
  "kernelspec": {
   "display_name": "Python 3 (ipykernel)",
   "language": "python",
   "name": "python3"
  },
  "language_info": {
   "codemirror_mode": {
    "name": "ipython",
    "version": 3
   },
   "file_extension": ".py",
   "mimetype": "text/x-python",
   "name": "python",
   "nbconvert_exporter": "python",
   "pygments_lexer": "ipython3"
  },
  "papermill": {
   "default_parameters": {},
   "duration": 1.429177,
   "end_time": "2023-08-01T23:38:21.494377",
   "environment_variables": {},
   "exception": null,
   "input_path": "source/estimators/did.ipynb",
   "output_path": "source/estimators/did.ipynb",
   "parameters": {},
   "start_time": "2023-08-01T23:38:20.065200",
   "version": "2.4.0"
  }
 },
 "nbformat": 4,
 "nbformat_minor": 5
}
