{
 "cells": [
  {
   "cell_type": "markdown",
   "id": "566e7a88",
   "metadata": {
    "tags": []
   },
   "source": [
    "## Difference-in-Difference (DID)"
   ]
  }
 ],
 "metadata": {
  "kernelspec": {
   "display_name": "Python 3",
   "language": "python",
   "name": "python3"
  },
  "language_info": {
   "codemirror_mode": {
    "name": "ipython",
    "version": 3
   },
   "file_extension": ".py",
   "mimetype": "text/x-python",
   "name": "python",
   "nbconvert_exporter": "python",
   "pygments_lexer": "ipython3"
  },
  "papermill": {
   "default_parameters": {},
   "duration": 1.429177,
   "end_time": "2023-08-01T23:38:21.494377",
   "environment_variables": {},
   "exception": null,
   "input_path": "source/estimators/did.ipynb",
   "output_path": "source/estimators/did.ipynb",
   "parameters": {},
   "start_time": "2023-08-01T23:38:20.065200",
   "version": "2.4.0"
  }
 },
 "nbformat": 4,
 "nbformat_minor": 5
}
