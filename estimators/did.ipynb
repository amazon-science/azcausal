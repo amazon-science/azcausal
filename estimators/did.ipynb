{
 "cells": [
  {
   "cell_type": "raw",
   "id": "cdda21db-5f84-484e-9b54-e894dd398f36",
   "metadata": {
    "raw_mimetype": "text/restructuredtext",
    "tags": []
   },
   "source": [
    ".. _did:"
   ]
  },
  {
   "cell_type": "markdown",
   "id": "566e7a88",
   "metadata": {
    "tags": []
   },
   "source": [
    "## Difference-in-Difference (DID)"
   ]
  },
  {
   "cell_type": "markdown",
   "id": "2b173106-05f9-4bf8-96fc-0e217d5f7d16",
   "metadata": {
    "tags": []
   },
   "source": [
    "One of the most well-known estimators is probably Difference-in-Difference (DID). It compares the differences pre- and post-experiment of treatment and control."
   ]
  },
  {
   "cell_type": "markdown",
   "id": "0bdaa916-af41-447c-898d-4dcefb87d54b",
   "metadata": {
    "tags": []
   },
   "source": [
    "### Panel"
   ]
  },
  {
   "cell_type": "code",
   "execution_count": null,
   "id": "9491b76f-35b5-4fc5-ab20-fd967e496151",
   "metadata": {
    "tags": []
   },
   "outputs": [],
   "source": [
    "from azcausal.data import CaliforniaProp99\n",
    "from azcausal.core.error import Bootstrap\n",
    "from azcausal.core.parallelize import Pool, Joblib\n",
    "from azcausal.estimators.panel.did import DID\n",
    "\n",
    "\n",
    "# load an example data set with the columns Year, State, PacksPerCapita, treated.\n",
    "panel = CaliforniaProp99().panel()\n",
    "\n",
    "# initialize an estimator object, here difference in difference (did)\n",
    "estimator = DID()\n",
    "\n",
    "# run the estimator\n",
    "result = estimator.fit(panel)\n",
    "\n",
    "# plot the results\n",
    "estimator.plot(result, title=\"CaliforniaProp99\", show=False)\n",
    "\n",
    "# create a process pool for parallelization\n",
    "pool = Joblib(n_jobs=5, progress=False)\n",
    "\n",
    "# run the error validation method\n",
    "estimator.error(result, Bootstrap(n_samples=101), parallelize=pool)\n",
    "\n",
    "# print out information about the estimate\n",
    "print(result.summary(title=\"CaliforniaProp99\"))"
   ]
  },
  {
   "cell_type": "markdown",
   "id": "6733825f-72a7-438e-9683-f3555fc8595b",
   "metadata": {
    "tags": []
   },
   "source": [
    "### Regression"
   ]
  },
  {
   "cell_type": "code",
   "execution_count": null,
   "id": "64062ef1-f429-45bf-910a-97a7f7e35fb6",
   "metadata": {
    "tags": []
   },
   "outputs": [],
   "source": [
    "# for the regression we can use either the panel or also directly the data frame \n",
    "df = CaliforniaProp99().load()\n",
    "\n",
    "df = df.rename(columns=dict(State='unit', Year='time', PacksPerCapita='outcome', treated='intervention'))\n",
    "\n",
    "df.head(3)"
   ]
  },
  {
   "cell_type": "code",
   "execution_count": null,
   "id": "d0524641-478b-4ce3-acc6-4d342cc6f51d",
   "metadata": {
    "tags": []
   },
   "outputs": [],
   "source": [
    "from azcausal.estimators.panel.did import DIDRegressor\n",
    "\n",
    "# initialize an estimator object, here difference in difference (did)\n",
    "estimator = DIDRegressor()\n",
    "\n",
    "# fit the estimator\n",
    "result = estimator.fit(df)\n",
    "\n",
    "# print out information about the estimate\n",
    "print(result.summary(title=\"CaliforniaProp99\", conf=95))"
   ]
  },
  {
   "cell_type": "markdown",
   "id": "d4f8bee6-7fe0-4897-bf5f-0993cbde1722",
   "metadata": {
    "tags": []
   },
   "source": [
    "### Event Study"
   ]
  },
  {
   "cell_type": "markdown",
   "id": "dce7a0c9-1544-4103-8bd7-6b20e1f514d7",
   "metadata": {
    "tags": []
   },
   "source": [
    "Exclude the time period -1 and set all DiD in relation to it"
   ]
  },
  {
   "cell_type": "code",
   "execution_count": null,
   "id": "8cbc74b9-2a84-420d-adcd-cee02eadee19",
   "metadata": {
    "tags": []
   },
   "outputs": [],
   "source": [
    "from azcausal.estimators.panel.did import EventStudy\n",
    "\n",
    "# now perform the event study\n",
    "estimator = EventStudy(n_pre=None, exclude=-1)\n",
    "\n",
    "# you can fit this with a data frame or panel\n",
    "result = estimator.fit(df)\n",
    "\n",
    "# show the results in a plot\n",
    "estimator.plot(result)"
   ]
  },
  {
   "cell_type": "markdown",
   "id": "f716a7dc-8b88-40f1-b01e-e115d939db15",
   "metadata": {
    "tags": []
   },
   "source": [
    "Assume that we run DID also before the experiment."
   ]
  },
  {
   "cell_type": "code",
   "execution_count": null,
   "id": "0b30c0b7-247d-40cd-bb6c-4fb16fa539f9",
   "metadata": {
    "tags": []
   },
   "outputs": [],
   "source": [
    "from azcausal.estimators.panel.did import EventStudy\n",
    "\n",
    "# now perform the event study\n",
    "estimator = EventStudy(n_pre=8, exclude=None)\n",
    "\n",
    "# you can fit this with a data frame or panel\n",
    "result = estimator.fit(df)\n",
    "\n",
    "# show the results in a plot\n",
    "estimator.plot(result)"
   ]
  }
 ],
 "metadata": {
  "kernelspec": {
   "display_name": "Python 3 (ipykernel)",
   "language": "python",
   "name": "python3"
  },
  "language_info": {
   "codemirror_mode": {
    "name": "ipython",
    "version": 3
   },
   "file_extension": ".py",
   "mimetype": "text/x-python",
   "name": "python",
   "nbconvert_exporter": "python",
   "pygments_lexer": "ipython3"
  },
  "papermill": {
   "default_parameters": {},
   "duration": 5.62036,
   "end_time": "2023-09-28T19:27:46.829589",
   "environment_variables": {},
   "exception": null,
   "input_path": "/Users/blankjul/workspace/azcausal/docs/source/estimators/did.ipynb",
   "output_path": "/Users/blankjul/workspace/azcausal/docs/source/estimators/did.ipynb",
   "parameters": {},
   "start_time": "2023-09-28T19:27:41.209229",
   "version": "2.4.0"
  }
 },
 "nbformat": 4,
 "nbformat_minor": 5
}
