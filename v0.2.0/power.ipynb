{
 "cells": [
  {
   "cell_type": "markdown",
   "id": "0b81fa87",
   "metadata": {
    "tags": []
   },
   "source": [
    "## Power Analysis"
   ]
  },
  {
   "cell_type": "code",
   "execution_count": null,
   "id": "e121ad99-e837-417b-adbf-0ece86a0d7e3",
   "metadata": {
    "tags": []
   },
   "outputs": [],
   "source": [
    "import matplotlib.pyplot as plt\n",
    "import numpy as np\n",
    "import pandas as pd\n",
    "\n",
    "from azcausal.core.performance import power\n",
    "from azcausal.core.synth import SyntheticEffect\n",
    "from azcausal.data import CaliforniaProp99\n",
    "from azcausal.estimators.panel.did import DIDRegressor\n",
    "\n",
    "\n",
    "# define a function that provides a result object (with error) given a panel\n",
    "def f_estimate_did_regr(panel):\n",
    "    return DIDRegressor().fit(panel)\n",
    "\n",
    "\n",
    "\n",
    "f_estimate = f_estimate_did_regr\n",
    "\n",
    "panel = CaliforniaProp99().panel()\n",
    "outcome = panel.outcome.loc[:, ~panel.w]\n",
    "\n",
    "# the number of samples for each power step\n",
    "n_samples = 11\n",
    "\n",
    "# length of the intervention\n",
    "n_post = 10\n",
    "\n",
    "# number of treated units\n",
    "n_treat = 2\n",
    "\n",
    "# create the intervention matrix\n",
    "intervention = np.zeros_like(outcome.values).astype(int)\n",
    "intervention[-n_post:, :n_treat] = 1\n",
    "\n",
    "df = []\n",
    "\n",
    "for att in np.linspace(0.0, 0.30, 7):\n",
    "\n",
    "    # create the treatment matrix for the effect\n",
    "    treatment = intervention * att * -1\n",
    "\n",
    "    # create synthetic panels where the last 8 time s\n",
    "    synth_effect = SyntheticEffect(outcome, treatment, intervention=intervention, mode='perc')\n",
    "\n",
    "    # estimate the treatment effect for different scenarios\n",
    "    results = [f_estimate(synth_effect.create(seed=seed).panel()) for seed in range(n_samples)]\n",
    "\n",
    "    # get the power from the results\n",
    "    pw = power(results, conf=90)\n",
    "\n",
    "    print(f\"Percentage Treatment Effect {att:.3f} | (-): {pw['-']:.3%}\")\n",
    "\n",
    "    df.append(dict(att=att, **pw))\n",
    "\n",
    "df = pd.DataFrame(df)\n"
   ]
  },
  {
   "cell_type": "code",
   "execution_count": null,
   "id": "d989feaa-1f03-4ba7-889a-fbaa3604e3f3",
   "metadata": {
    "tags": []
   },
   "outputs": [],
   "source": [
    "print(\"\")\n",
    "print(df)\n",
    "\n",
    "plt.subplots(1, 1, figsize=(12, 4))\n",
    "plt.title(\"Power Analysis\")\n",
    "plt.plot(100 * df['att'], df['-'], \"-o\", color=\"blue\", label='-')\n",
    "plt.plot(100 * df['att'], df['+'], \"-o\", color=\"green\", label='+')\n",
    "plt.axhline(1.0, color=\"black\", alpha=0.15)\n",
    "plt.axhline(0.9, color=\"black\", alpha=0.15, linestyle='--')\n",
    "plt.axhline(0.0, color=\"black\", alpha=0.15)\n",
    "plt.ylim(-0.05, 1.05)\n",
    "plt.xlabel(\"ATT (%)\")\n",
    "plt.ylabel(\"Statistical Power\")\n",
    "plt.legend()\n",
    "plt.show()\n"
   ]
  }
 ],
 "metadata": {
  "kernelspec": {
   "display_name": "Python 3 (ipykernel)",
   "language": "python",
   "name": "python3"
  },
  "language_info": {
   "codemirror_mode": {
    "name": "ipython",
    "version": 3
   },
   "file_extension": ".py",
   "mimetype": "text/x-python",
   "name": "python",
   "nbconvert_exporter": "python",
   "pygments_lexer": "ipython3"
  },
  "papermill": {
   "default_parameters": {},
   "duration": 5.528902,
   "end_time": "2023-09-28T19:27:20.272717",
   "environment_variables": {},
   "exception": null,
   "input_path": "/Users/blankjul/workspace/azcausal/docs/source/power.ipynb",
   "output_path": "/Users/blankjul/workspace/azcausal/docs/source/power.ipynb",
   "parameters": {},
   "start_time": "2023-09-28T19:27:14.743815",
   "version": "2.4.0"
  }
 },
 "nbformat": 4,
 "nbformat_minor": 5
}
