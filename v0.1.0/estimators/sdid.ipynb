{
 "cells": [
  {
   "cell_type": "markdown",
   "id": "c3cdccaa",
   "metadata": {
    "papermill": {
     "duration": 0.003523,
     "end_time": "2023-10-02T23:48:22.700572",
     "exception": false,
     "start_time": "2023-10-02T23:48:22.697049",
     "status": "completed"
    },
    "tags": []
   },
   "source": [
    "## Synthetic Difference-in-Difference (SDID)"
   ]
  },
  {
   "cell_type": "raw",
   "id": "c0496a08-0f8a-4a96-8d06-bfd26adc264c",
   "metadata": {
    "papermill": {
     "duration": 0.002162,
     "end_time": "2023-10-02T23:48:22.707004",
     "exception": false,
     "start_time": "2023-10-02T23:48:22.704842",
     "status": "completed"
    },
    "raw_mimetype": "text/restructuredtext",
    "tags": []
   },
   "source": [
    "\n",
    "Paper:\n",
    "\n",
    "| **Synthetic Difference-in-Differences**\n",
    "| Arkhangelsky, Dmitry Athey, Susan Hirshberg, David A. Imbens, Guido W. Wager, Stefan \n",
    "| 10.1257/aer.20190159 \n",
    "| https://www.aeaweb.org/articles?id=10.1257/aer.20190159. \n"
   ]
  },
  {
   "cell_type": "markdown",
   "id": "7936cc0b-c5e8-47bf-87a1-75bb8df85362",
   "metadata": {
    "papermill": {
     "duration": 0.00394,
     "end_time": "2023-10-02T23:48:22.713196",
     "exception": false,
     "start_time": "2023-10-02T23:48:22.709256",
     "status": "completed"
    },
    "tags": []
   },
   "source": [
    "Implementation based on https://synth-inference.github.io/synthdid/"
   ]
  },
  {
   "cell_type": "code",
   "execution_count": 1,
   "id": "17473824-2d0d-4fa0-8009-f294cb384e49",
   "metadata": {
    "execution": {
     "iopub.execute_input": "2023-10-02T23:48:22.718262Z",
     "iopub.status.busy": "2023-10-02T23:48:22.717947Z",
     "iopub.status.idle": "2023-10-02T23:48:24.450929Z",
     "shell.execute_reply": "2023-10-02T23:48:24.450572Z"
    },
    "papermill": {
     "duration": 1.73691,
     "end_time": "2023-10-02T23:48:24.452578",
     "exception": false,
     "start_time": "2023-10-02T23:48:22.715668",
     "status": "completed"
    },
    "tags": []
   },
   "outputs": [
    {
     "name": "stdout",
     "output_type": "stream",
     "text": [
      "╭──────────────────────────────────────────────────────────────────────────────╮\n",
      "|                               CaliforniaProp99                               |\n",
      "├==============================================================================┤\n",
      "|                                    Panel                                     |\n",
      "|  Time Periods: 31 (19/12)                                  total (pre/post)  |\n",
      "|  Units: 39 (38/1)                                       total (contr/treat)  |\n",
      "├──────────────────────────────────────────────────────────────────────────────┤\n",
      "|                                     ATT                                      |\n",
      "|  Effect (±SE): -15.60 (±2.9161)                                              |\n",
      "|  Confidence Interval (95%): [-21.32 , -9.8884]                          (-)  |\n",
      "|  Observed: 60.35                                                             |\n",
      "|  Counter Factual: 75.95                                                      |\n",
      "├──────────────────────────────────────────────────────────────────────────────┤\n",
      "|                                  Percentage                                  |\n",
      "|  Effect (±SE): -20.54 (±3.8393)                                              |\n",
      "|  Confidence Interval (95%): [-28.07 , -13.02]                           (-)  |\n",
      "|  Observed: 79.46                                                             |\n",
      "|  Counter Factual: 100.00                                                     |\n",
      "├──────────────────────────────────────────────────────────────────────────────┤\n",
      "|                                  Cumulative                                  |\n",
      "|  Effect (±SE): -187.25 (±34.99)                                              |\n",
      "|  Confidence Interval (95%): [-255.83 , -118.66]                         (-)  |\n",
      "|  Observed: 724.20                                                            |\n",
      "|  Counter Factual: 911.45                                                     |\n",
      "╰──────────────────────────────────────────────────────────────────────────────╯\n"
     ]
    }
   ],
   "source": [
    "from azcausal.data import CaliforniaProp99\n",
    "from azcausal.core.error import JackKnife\n",
    "from azcausal.estimators.panel.sdid import SDID\n",
    "\n",
    "\n",
    "# load an example data set with the columns Year, State, PacksPerCapita, treated.\n",
    "panel = CaliforniaProp99().panel()\n",
    "\n",
    "# initialize an estimator object, here synthetic difference in difference (sdid)\n",
    "estimator = SDID()\n",
    "\n",
    "# run the estimator\n",
    "result = estimator.fit(panel)\n",
    "\n",
    "# show the results in a plot\n",
    "estimator.plot(result, CF=True, C=True, show=False)\n",
    "\n",
    "# run an error validation method\n",
    "estimator.error(result, JackKnife())\n",
    "\n",
    "# print out information about the estimate\n",
    "print(result.summary(title=\"CaliforniaProp99\"))"
   ]
  }
 ],
 "metadata": {
  "kernelspec": {
   "display_name": "Python 3 (ipykernel)",
   "language": "python",
   "name": "python3"
  },
  "language_info": {
   "codemirror_mode": {
    "name": "ipython",
    "version": 3
   },
   "file_extension": ".py",
   "mimetype": "text/x-python",
   "name": "python",
   "nbconvert_exporter": "python",
   "pygments_lexer": "ipython3",
   "version": "3.9.16"
  },
  "papermill": {
   "default_parameters": {},
   "duration": 3.853205,
   "end_time": "2023-10-02T23:48:24.772164",
   "environment_variables": {},
   "exception": null,
   "input_path": "/Users/blankjul/Downloads/sfsadsfsf/azcausal/docs/source/estimators/sdid.ipynb",
   "output_path": "/Users/blankjul/Downloads/sfsadsfsf/azcausal/docs/source/estimators/sdid.ipynb",
   "parameters": {},
   "start_time": "2023-10-02T23:48:20.918959",
   "version": "2.4.0"
  }
 },
 "nbformat": 4,
 "nbformat_minor": 5
}
