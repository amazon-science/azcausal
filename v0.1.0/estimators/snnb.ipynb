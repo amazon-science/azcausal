{
 "cells": [
  {
   "cell_type": "markdown",
   "id": "65bab9d9",
   "metadata": {
    "papermill": {
     "duration": 0.007366,
     "end_time": "2023-10-02T23:48:28.413584",
     "exception": false,
     "start_time": "2023-10-02T23:48:28.406218",
     "status": "completed"
    },
    "tags": []
   },
   "source": [
    "## Synthetic Nearest Neighbor Biclustering (SNNB)"
   ]
  },
  {
   "cell_type": "raw",
   "id": "57df9ba4-a652-43f0-8b77-7af6f12ed54e",
   "metadata": {
    "papermill": {
     "duration": 0.00479,
     "end_time": "2023-10-02T23:48:28.431982",
     "exception": false,
     "start_time": "2023-10-02T23:48:28.427192",
     "status": "completed"
    },
    "raw_mimetype": "text/restructuredtext",
    "tags": []
   },
   "source": [
    ".. Attention:: SNNB is still experimental."
   ]
  },
  {
   "cell_type": "code",
   "execution_count": 1,
   "id": "783a6eea-8ff2-45d5-985c-c25c6fb28341",
   "metadata": {
    "execution": {
     "iopub.execute_input": "2023-10-02T23:48:28.435537Z",
     "iopub.status.busy": "2023-10-02T23:48:28.435247Z",
     "iopub.status.idle": "2023-10-02T23:48:31.549887Z",
     "shell.execute_reply": "2023-10-02T23:48:31.549346Z"
    },
    "papermill": {
     "duration": 3.118731,
     "end_time": "2023-10-02T23:48:31.551815",
     "exception": false,
     "start_time": "2023-10-02T23:48:28.433084",
     "status": "completed"
    },
    "tags": []
   },
   "outputs": [
    {
     "name": "stdout",
     "output_type": "stream",
     "text": [
      "╭──────────────────────────────────────────────────────────────────────────────╮\n",
      "|                               CaliforniaProp99                               |\n",
      "├==============================================================================┤\n",
      "|                                    Panel                                     |\n",
      "|  Time Periods: 31 (19/12)                                  total (pre/post)  |\n",
      "|  Units: 39 (38/1)                                       total (contr/treat)  |\n",
      "├──────────────────────────────────────────────────────────────────────────────┤\n",
      "|                                     ATT                                      |\n",
      "|  Effect: -21.34                                                              |\n",
      "|  Observed: 60.35                                                             |\n",
      "|  Counter Factual: 81.69                                                      |\n",
      "├──────────────────────────────────────────────────────────────────────────────┤\n",
      "|                                  Percentage                                  |\n",
      "|  Effect: -26.12                                                              |\n",
      "|  Observed: 73.88                                                             |\n",
      "|  Counter Factual: 100.00                                                     |\n",
      "├──────────────────────────────────────────────────────────────────────────────┤\n",
      "|                                  Cumulative                                  |\n",
      "|  Effect: -256.09                                                             |\n",
      "|  Observed: 724.20                                                            |\n",
      "|  Counter Factual: 980.29                                                     |\n",
      "╰──────────────────────────────────────────────────────────────────────────────╯\n"
     ]
    }
   ],
   "source": [
    "from azcausal.core.panel import Panel\n",
    "from azcausal.data import CaliforniaProp99\n",
    "from azcausal.estimators.panel.snnb import SNNB\n",
    "\n",
    "# load an example data set with the columns Year, State, PacksPerCapita, treated.\n",
    "panel = CaliforniaProp99().panel()\n",
    "\n",
    "# initialize an estimator object\n",
    "estimator = SNNB()\n",
    "\n",
    "# run the estimator\n",
    "result = estimator.fit(panel)\n",
    "\n",
    "# plot the results\n",
    "estimator.plot(result, title=\"CaliforniaProp99\", show=False)\n",
    "\n",
    "# print out information about the estimate\n",
    "print(result.summary(title=\"CaliforniaProp99\"))"
   ]
  }
 ],
 "metadata": {
  "kernelspec": {
   "display_name": "Python 3 (ipykernel)",
   "language": "python",
   "name": "python3"
  },
  "language_info": {
   "codemirror_mode": {
    "name": "ipython",
    "version": 3
   },
   "file_extension": ".py",
   "mimetype": "text/x-python",
   "name": "python",
   "nbconvert_exporter": "python",
   "pygments_lexer": "ipython3",
   "version": "3.9.16"
  },
  "papermill": {
   "default_parameters": {},
   "duration": 5.111409,
   "end_time": "2023-10-02T23:48:31.872421",
   "environment_variables": {},
   "exception": null,
   "input_path": "/Users/blankjul/Downloads/sfsadsfsf/azcausal/docs/source/estimators/snnb.ipynb",
   "output_path": "/Users/blankjul/Downloads/sfsadsfsf/azcausal/docs/source/estimators/snnb.ipynb",
   "parameters": {},
   "start_time": "2023-10-02T23:48:26.761012",
   "version": "2.4.0"
  }
 },
 "nbformat": 4,
 "nbformat_minor": 5
}
