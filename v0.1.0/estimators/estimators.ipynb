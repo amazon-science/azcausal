{
 "cells": [
  {
   "cell_type": "markdown",
   "id": "23d7558f-9be7-4738-9471-1a90b4410e96",
   "metadata": {
    "papermill": {
     "duration": 0.005438,
     "end_time": "2023-10-02T23:48:26.514178",
     "exception": false,
     "start_time": "2023-10-02T23:48:26.508740",
     "status": "completed"
    },
    "tags": []
   },
   "source": [
    "# Estimators"
   ]
  },
  {
   "cell_type": "raw",
   "id": "7f8fb196-d1bf-41bc-89ef-8c355f168a5a",
   "metadata": {
    "papermill": {
     "duration": 0.005095,
     "end_time": "2023-10-02T23:48:26.527281",
     "exception": false,
     "start_time": "2023-10-02T23:48:26.522186",
     "status": "completed"
    },
    "raw_mimetype": "text/restructuredtext",
    "tags": []
   },
   "source": [
    ".. Hint:: So far, the installation is only available directly through Github (*we are planning to add PyPi in the near future*)."
   ]
  },
  {
   "cell_type": "raw",
   "id": "4fcb74eb-f458-4ada-9eae-d63a98bf08da",
   "metadata": {
    "papermill": {
     "duration": 0.002802,
     "end_time": "2023-10-02T23:48:26.533209",
     "exception": false,
     "start_time": "2023-10-02T23:48:26.530407",
     "status": "completed"
    },
    "raw_mimetype": "text/restructuredtext",
    "tags": []
   },
   "source": [
    "\n",
    ".. toctree::\n",
    "   :maxdepth: 2\n",
    "   :hidden:\n",
    "\n",
    "   did\n",
    "   sdid\n",
    "   snnb"
   ]
  }
 ],
 "metadata": {
  "kernelspec": {
   "display_name": "Python 3 (ipykernel)",
   "language": "python",
   "name": "python3"
  },
  "language_info": {
   "codemirror_mode": {
    "name": "ipython",
    "version": 3
   },
   "file_extension": ".py",
   "mimetype": "text/x-python",
   "name": "python",
   "nbconvert_exporter": "python",
   "pygments_lexer": "ipython3",
   "version": "3.9.16"
  },
  "papermill": {
   "default_parameters": {},
   "duration": 1.982491,
   "end_time": "2023-10-02T23:48:26.758099",
   "environment_variables": {},
   "exception": null,
   "input_path": "/Users/blankjul/Downloads/sfsadsfsf/azcausal/docs/source/estimators/estimators.ipynb",
   "output_path": "/Users/blankjul/Downloads/sfsadsfsf/azcausal/docs/source/estimators/estimators.ipynb",
   "parameters": {},
   "start_time": "2023-10-02T23:48:24.775608",
   "version": "2.4.0"
  }
 },
 "nbformat": 4,
 "nbformat_minor": 5
}
