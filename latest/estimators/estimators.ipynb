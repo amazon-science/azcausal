{
 "cells": [
  {
   "cell_type": "markdown",
   "id": "23d7558f-9be7-4738-9471-1a90b4410e96",
   "metadata": {
    "papermill": {
     "duration": 0.001349,
     "end_time": "2023-10-02T23:29:26.093168",
     "exception": false,
     "start_time": "2023-10-02T23:29:26.091819",
     "status": "completed"
    },
    "tags": []
   },
   "source": [
    "# Estimators"
   ]
  },
  {
   "cell_type": "raw",
   "id": "c67be05b",
   "metadata": {
    "papermill": {
     "duration": 0.00058,
     "end_time": "2023-10-02T23:29:26.094634",
     "exception": false,
     "start_time": "2023-10-02T23:29:26.094054",
     "status": "completed"
    },
    "raw_mimetype": "text/restructuredtext",
    "tags": []
   },
   "source": [
    "\n",
    "\n",
    ".. toctree::\n",
    "   :maxdepth: 2\n",
    "   :hidden:\n",
    "\n",
    "   did\n",
    "   sdid\n",
    "   snn\n"
   ]
  }
 ],
 "metadata": {
  "kernelspec": {
   "display_name": "Python 3 (ipykernel)",
   "language": "python",
   "name": "python3"
  },
  "language_info": {
   "codemirror_mode": {
    "name": "ipython",
    "version": 3
   },
   "file_extension": ".py",
   "mimetype": "text/x-python",
   "name": "python",
   "nbconvert_exporter": "python",
   "pygments_lexer": "ipython3",
   "version": "3.10.0"
  },
  "papermill": {
   "default_parameters": {},
   "duration": 1.161523,
   "end_time": "2023-10-02T23:29:26.313008",
   "environment_variables": {},
   "exception": null,
   "input_path": "/Users/blankjul/workspace/azcausal/docs/source/estimators/estimators.ipynb",
   "output_path": "/Users/blankjul/workspace/azcausal/docs/source/estimators/estimators.ipynb",
   "parameters": {},
   "start_time": "2023-10-02T23:29:25.151485",
   "version": "2.4.0"
  }
 },
 "nbformat": 4,
 "nbformat_minor": 5
}
