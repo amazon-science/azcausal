{
 "cells": [
  {
   "cell_type": "markdown",
   "id": "23d7558f-9be7-4738-9471-1a90b4410e96",
   "metadata": {
    "papermill": {
     "duration": 0.001022,
     "end_time": "2023-12-08T20:52:29.582225",
     "exception": false,
     "start_time": "2023-12-08T20:52:29.581203",
     "status": "completed"
    },
    "tags": []
   },
   "source": [
    "# Estimators"
   ]
  },
  {
   "cell_type": "raw",
   "id": "c67be05b",
   "metadata": {
    "papermill": {
     "duration": 0.000775,
     "end_time": "2023-12-08T20:52:29.583906",
     "exception": false,
     "start_time": "2023-12-08T20:52:29.583131",
     "status": "completed"
    },
    "raw_mimetype": "text/restructuredtext",
    "tags": []
   },
   "source": [
    "\n",
    "\n",
    ".. toctree::\n",
    "   :maxdepth: 2\n",
    "   :hidden:\n",
    "\n",
    "   did\n",
    "   sdid\n",
    "   snn\n"
   ]
  },
  {
   "cell_type": "raw",
   "id": "b56d816f-874c-42f2-aa68-18b4ea32eaae",
   "metadata": {
    "papermill": {
     "duration": 0.000663,
     "end_time": "2023-12-08T20:52:29.585456",
     "exception": false,
     "start_time": "2023-12-08T20:52:29.584793",
     "status": "completed"
    },
    "raw_mimetype": "text/restructuredtext",
    "tags": []
   },
   "source": [
    "\n",
    ".. list-table:: \n",
    "    :widths: 20 10\n",
    "    :header-rows: 1\n",
    "\n",
    "    * - Estimator\n",
    "      - Reference\n",
    "    * - :ref:`Difference in Difference (DID)<did>` \n",
    "      - \n",
    "    * - :ref:`Synthetic Difference in Difference (SDID)<sdid>` \n",
    "      - :cite:p:`sdid`\n",
    "    * - :ref:`Synthetic Nearest Neighbor (SNN)<snn>`\n",
    "      - :cite:p:`snn`\n",
    "\n"
   ]
  }
 ],
 "metadata": {
  "kernelspec": {
   "display_name": "Python 3 (ipykernel)",
   "language": "python",
   "name": "python3"
  },
  "language_info": {
   "codemirror_mode": {
    "name": "ipython",
    "version": 3
   },
   "file_extension": ".py",
   "mimetype": "text/x-python",
   "name": "python",
   "nbconvert_exporter": "python",
   "pygments_lexer": "ipython3",
   "version": "3.10.12"
  },
  "papermill": {
   "default_parameters": {},
   "duration": 0.773111,
   "end_time": "2023-12-08T20:52:29.702287",
   "environment_variables": {},
   "exception": null,
   "input_path": "/home/runner/work/azcausal/azcausal/docs/source/estimators/estimators.ipynb",
   "output_path": "/home/runner/work/azcausal/azcausal/docs/source/estimators/estimators.ipynb",
   "parameters": {},
   "start_time": "2023-12-08T20:52:28.929176",
   "version": "2.4.0"
  }
 },
 "nbformat": 4,
 "nbformat_minor": 5
}
