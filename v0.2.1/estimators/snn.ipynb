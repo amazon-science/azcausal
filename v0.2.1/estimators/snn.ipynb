{
 "cells": [
  {
   "cell_type": "raw",
   "id": "49fe51c2",
   "metadata": {
    "papermill": {
     "duration": 0.001059,
     "end_time": "2023-12-08T20:52:30.434779",
     "exception": false,
     "start_time": "2023-12-08T20:52:30.433720",
     "status": "completed"
    },
    "raw_mimetype": "text/restructuredtext",
    "tags": []
   },
   "source": [
    ".. _snn:"
   ]
  },
  {
   "cell_type": "markdown",
   "id": "6a85da34",
   "metadata": {
    "papermill": {
     "duration": 0.000901,
     "end_time": "2023-12-08T20:52:30.436610",
     "exception": false,
     "start_time": "2023-12-08T20:52:30.435709",
     "status": "completed"
    },
    "tags": []
   },
   "source": [
    "## Synthetic Nearest Neighbor (SNN)"
   ]
  },
  {
   "cell_type": "raw",
   "id": "e5f99480-9a2f-4b68-aeea-02740a5bc83c",
   "metadata": {
    "papermill": {
     "duration": 0.000749,
     "end_time": "2023-12-08T20:52:30.438271",
     "exception": false,
     "start_time": "2023-12-08T20:52:30.437522",
     "status": "completed"
    },
    "tags": []
   },
   "source": [
    "Please find more details in :cite:p:`snn`."
   ]
  },
  {
   "cell_type": "code",
   "execution_count": 1,
   "id": "a4d1e4d1-6f8e-41ab-957d-c6a15c927deb",
   "metadata": {
    "execution": {
     "iopub.execute_input": "2023-12-08T20:52:30.441061Z",
     "iopub.status.busy": "2023-12-08T20:52:30.440662Z",
     "iopub.status.idle": "2023-12-08T20:52:32.569999Z",
     "shell.execute_reply": "2023-12-08T20:52:32.569350Z"
    },
    "papermill": {
     "duration": 2.132262,
     "end_time": "2023-12-08T20:52:32.571285",
     "exception": false,
     "start_time": "2023-12-08T20:52:30.439023",
     "status": "completed"
    },
    "tags": []
   },
   "outputs": [
    {
     "name": "stderr",
     "output_type": "stream",
     "text": [
      "\r",
      "  0%|          | 0/31 [00:00<?, ?it/s]"
     ]
    },
    {
     "name": "stderr",
     "output_type": "stream",
     "text": [
      "\r",
      "  3%|▎         | 1/31 [00:00<00:05,  5.98it/s]"
     ]
    },
    {
     "name": "stderr",
     "output_type": "stream",
     "text": [
      "\r",
      " 13%|█▎        | 4/31 [00:00<00:01, 15.98it/s]"
     ]
    },
    {
     "name": "stderr",
     "output_type": "stream",
     "text": [
      "\r",
      " 23%|██▎       | 7/31 [00:00<00:01, 12.81it/s]"
     ]
    },
    {
     "name": "stderr",
     "output_type": "stream",
     "text": [
      "\r",
      " 45%|████▌     | 14/31 [00:00<00:00, 21.80it/s]"
     ]
    },
    {
     "name": "stderr",
     "output_type": "stream",
     "text": [
      "\r",
      " 58%|█████▊    | 18/31 [00:00<00:00, 20.93it/s]"
     ]
    },
    {
     "name": "stderr",
     "output_type": "stream",
     "text": [
      "\r",
      " 71%|███████   | 22/31 [00:01<00:00, 21.31it/s]"
     ]
    },
    {
     "name": "stderr",
     "output_type": "stream",
     "text": [
      "\r",
      " 87%|████████▋ | 27/31 [00:01<00:00, 24.90it/s]"
     ]
    },
    {
     "name": "stderr",
     "output_type": "stream",
     "text": [
      "\r",
      " 97%|█████████▋| 30/31 [00:01<00:00, 23.86it/s]"
     ]
    },
    {
     "name": "stderr",
     "output_type": "stream",
     "text": [
      "\r",
      "100%|██████████| 31/31 [00:01<00:00, 21.77it/s]"
     ]
    },
    {
     "name": "stderr",
     "output_type": "stream",
     "text": [
      "\n"
     ]
    },
    {
     "name": "stdout",
     "output_type": "stream",
     "text": [
      "╭──────────────────────────────────────────────────────────────────────────────╮\n",
      "|                               CaliforniaProp99                               |\n",
      "├──────────────────────────────────────────────────────────────────────────────┤\n",
      "|                                    Panel                                     |\n",
      "|  Time Periods: 31 (19/12)                                  total (pre/post)  |\n",
      "|  Units: 39 (38/1)                                       total (contr/treat)  |\n",
      "├──────────────────────────────────────────────────────────────────────────────┤\n",
      "|                                                                              |\n",
      "|  Effect (±SE): -21.34 (±2.1270)                                              |\n",
      "|  Confidence Interval (95%): [-25.51 , -17.17]                           (-)  |\n",
      "|  Observed: 60.35                                                             |\n",
      "|  Counter Factual: 81.69                                                      |\n",
      "├──────────────────────────────────────────────────────────────────────────────┤\n",
      "|                                  Percentage                                  |\n",
      "|  Effect (±SE): -26.12 (±2.6038)                                              |\n",
      "|  Confidence Interval (95%): [-31.23 , -21.02]                           (-)  |\n",
      "|  Observed: 73.88                                                             |\n",
      "|  Counter Factual: 100.00                                                     |\n",
      "├──────────────────────────────────────────────────────────────────────────────┤\n",
      "|                                  Cumulative                                  |\n",
      "|  Effect (±SE): -256.08 (±25.52)                                              |\n",
      "|  Confidence Interval (95%): [-306.11 , -206.05]                         (-)  |\n",
      "|  Observed: 724.20                                                            |\n",
      "|  Counter Factual: 980.28                                                     |\n",
      "╰──────────────────────────────────────────────────────────────────────────────╯\n"
     ]
    }
   ],
   "source": [
    "from azcausal.core.error import Bootstrap\n",
    "from azcausal.core.parallelize import Joblib\n",
    "from azcausal.data import CaliforniaProp99\n",
    "from azcausal.estimators.panel.snn import SNN\n",
    "\n",
    "# create the panel to be fed into the estimator\n",
    "panel = CaliforniaProp99().panel()\n",
    "\n",
    "# initialize an estimator object\n",
    "estimator = SNN()\n",
    "\n",
    "# run the SNN\n",
    "result = estimator.fit(panel)\n",
    "\n",
    "# estimate the standard error\n",
    "estimator.error(result, Bootstrap(n_samples=31), parallelize=Joblib(progress=True))\n",
    "\n",
    "# print out information about the estimate\n",
    "print(result.summary(title=\"CaliforniaProp99\"))"
   ]
  }
 ],
 "metadata": {
  "kernelspec": {
   "display_name": "Python 3 (ipykernel)",
   "language": "python",
   "name": "python3"
  },
  "language_info": {
   "codemirror_mode": {
    "name": "ipython",
    "version": 3
   },
   "file_extension": ".py",
   "mimetype": "text/x-python",
   "name": "python",
   "nbconvert_exporter": "python",
   "pygments_lexer": "ipython3",
   "version": "3.10.12"
  },
  "papermill": {
   "default_parameters": {},
   "duration": 3.084261,
   "end_time": "2023-12-08T20:52:32.788889",
   "environment_variables": {},
   "exception": null,
   "input_path": "/home/runner/work/azcausal/azcausal/docs/source/estimators/snn.ipynb",
   "output_path": "/home/runner/work/azcausal/azcausal/docs/source/estimators/snn.ipynb",
   "parameters": {},
   "start_time": "2023-12-08T20:52:29.704628",
   "version": "2.4.0"
  }
 },
 "nbformat": 4,
 "nbformat_minor": 5
}
